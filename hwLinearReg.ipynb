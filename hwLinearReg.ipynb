{
 "cells": [
  {
   "cell_type": "markdown",
   "metadata": {},
   "source": [
    "# Tarea: Ensayo sobre regresión lineal\n",
    "## Presentado por: Miguel De Souza"
   ]
  },
  {
   "cell_type": "markdown",
   "metadata": {},
   "source": [
    "### Referencias\n",
    "\n",
    "1. [Regresión lineal de Wikipedia](https://es.wikipedia.org/wiki/Regresi%C3%B3n_lineal)\n",
    "\n",
    "2. [Linear Regresion Tutorial. 365datascience](https://365datascience.com/tutorials/python-tutorials/linear-regression/)"
   ]
  },
  {
   "cell_type": "code",
   "execution_count": 2,
   "metadata": {},
   "outputs": [],
   "source": [
    "#Packages for importing images from internet\n",
    "from IPython.display import Image\n",
    "from IPython.core.display import HTML "
   ]
  },
  {
   "cell_type": "code",
   "execution_count": 3,
   "metadata": {},
   "outputs": [],
   "source": [
    "#Packages to use for homework\n",
    "import numpy as np\n",
    "import pandas as pd\n",
    "import matplotlib.pyplot as plt\n",
    "import statsmodels.api as sm"
   ]
  },
  {
   "cell_type": "markdown",
   "metadata": {},
   "source": [
    "### Introducción:\n",
    "\n",
    "#### Regresión lineal: \n",
    "Una regresión lineal es un modelo matemático que se usa para dar una aproximación lineal de una variable dependiente (comúnmente denominada $Y$) con un conjunto de variables independientes (comúnmente denominadas $X_i$). Tal modelo se puede escribir como:\n",
    "\n",
    "$$Y = \\beta_0 + \\beta_1X_1 + ... + \\beta_mX_m + \\epsilon$$\n",
    "\n",
    "donde:\n",
    "\n",
    "$Y$: variable dependiente.\n",
    "\n",
    "$X_1,...X_m$: variables independientes.\n",
    "\n",
    "$\\beta_0,...\\beta_m$: parámetros del modelo.\n",
    "\n",
    "$\\epsilon$: error aleatorio.\n",
    "\n",
    "Un esquema de lo anteriormente dicho para una variable independiente (regresión lineal simple) aparece en la siguiente imagen:"
   ]
  },
  {
   "cell_type": "code",
   "execution_count": 5,
   "metadata": {},
   "outputs": [
    {
     "data": {
      "text/html": [
       "<img src=\"https://365datascience.com/resources/blog/2018-11-image28-1024x541.jpg\" width=\"600\" height=\"600\"/>"
      ],
      "text/plain": [
       "<IPython.core.display.Image object>"
      ]
     },
     "execution_count": 5,
     "metadata": {},
     "output_type": "execute_result"
    }
   ],
   "source": [
    "Image(url= \"https://365datascience.com/resources/blog/2018-11-image28-1024x541.jpg\",width=600, height=600)"
   ]
  },
  {
   "cell_type": "markdown",
   "metadata": {},
   "source": [
    "### Datos reales\n",
    "\n",
    "Los datos reales con los que se va a trabajar se consiguieron en la referencia 2. escrita al principio de este archivo. Estos datos provienen de 84 estudiantes de Estados Unidos. Una breve descripción de estos datos se puede ver en la siguiente celda, donde se importan y se visualiza un resumen de la información que se tiene:"
   ]
  },
  {
   "cell_type": "code",
   "execution_count": 13,
   "metadata": {},
   "outputs": [
    {
     "data": {
      "text/html": [
       "<div>\n",
       "<style scoped>\n",
       "    .dataframe tbody tr th:only-of-type {\n",
       "        vertical-align: middle;\n",
       "    }\n",
       "\n",
       "    .dataframe tbody tr th {\n",
       "        vertical-align: top;\n",
       "    }\n",
       "\n",
       "    .dataframe thead th {\n",
       "        text-align: right;\n",
       "    }\n",
       "</style>\n",
       "<table border=\"1\" class=\"dataframe\">\n",
       "  <thead>\n",
       "    <tr style=\"text-align: right;\">\n",
       "      <th></th>\n",
       "      <th>SAT</th>\n",
       "      <th>GPA</th>\n",
       "    </tr>\n",
       "  </thead>\n",
       "  <tbody>\n",
       "    <tr>\n",
       "      <th>count</th>\n",
       "      <td>84.000000</td>\n",
       "      <td>84.000000</td>\n",
       "    </tr>\n",
       "    <tr>\n",
       "      <th>mean</th>\n",
       "      <td>1845.273810</td>\n",
       "      <td>3.330238</td>\n",
       "    </tr>\n",
       "    <tr>\n",
       "      <th>std</th>\n",
       "      <td>104.530661</td>\n",
       "      <td>0.271617</td>\n",
       "    </tr>\n",
       "    <tr>\n",
       "      <th>min</th>\n",
       "      <td>1634.000000</td>\n",
       "      <td>2.400000</td>\n",
       "    </tr>\n",
       "    <tr>\n",
       "      <th>25%</th>\n",
       "      <td>1772.000000</td>\n",
       "      <td>3.190000</td>\n",
       "    </tr>\n",
       "    <tr>\n",
       "      <th>50%</th>\n",
       "      <td>1846.000000</td>\n",
       "      <td>3.380000</td>\n",
       "    </tr>\n",
       "    <tr>\n",
       "      <th>75%</th>\n",
       "      <td>1934.000000</td>\n",
       "      <td>3.502500</td>\n",
       "    </tr>\n",
       "    <tr>\n",
       "      <th>max</th>\n",
       "      <td>2050.000000</td>\n",
       "      <td>3.810000</td>\n",
       "    </tr>\n",
       "  </tbody>\n",
       "</table>\n",
       "</div>"
      ],
      "text/plain": [
       "               SAT        GPA\n",
       "count    84.000000  84.000000\n",
       "mean   1845.273810   3.330238\n",
       "std     104.530661   0.271617\n",
       "min    1634.000000   2.400000\n",
       "25%    1772.000000   3.190000\n",
       "50%    1846.000000   3.380000\n",
       "75%    1934.000000   3.502500\n",
       "max    2050.000000   3.810000"
      ]
     },
     "execution_count": 13,
     "metadata": {},
     "output_type": "execute_result"
    }
   ],
   "source": [
    "#Reading and describing real data\n",
    "data = pd.read_csv('1.01. Simple linear regression.csv')\n",
    "###data\n",
    "data.describe()"
   ]
  },
  {
   "cell_type": "markdown",
   "metadata": {},
   "source": [
    "### Planteamiento del problema\n",
    "La variable independiente en nuestro problema se denomina como SAT ($X$). Haciendo un equivalente para Colombia, el SAT sería como el examen SABER 11 ya que este examen es un requisito para estudiar en una universidad, y en algunas universidades se pide y se usa como filtro de admisión.\n",
    "\n",
    "La variable dependiente es el GPA ($Y$) cuyo equivalente en Colombia es el promedio académico (de notas) que un estudiante obtuvo a lo largo de su carrera universitaria. \n",
    "\n",
    "La idea del problema es predecir como será el GPA basado en los resultados del examen SAT realizado antes de ingresar a la universidad. Esto se hace ya que se puede pensar que entre mejor le vaya a un estudiante en su examen SAT (o en el SABER 11 en Colombia) es más probable que tenga un mejor promedio académico (reflejado en el GPA) en su carrera, pues tendría mejores conocimientos básicos que estudiantes con baja calificación en el SAT. Toda esta situación se presenta de forma esquematizada en la siguiente imagen:"
   ]
  },
  {
   "cell_type": "markdown",
   "metadata": {},
   "source": [
    "<img src=\"SAT_GPA.png\">"
   ]
  },
  {
   "cell_type": "markdown",
   "metadata": {},
   "source": [
    "A continuación se hace el análisis matemático, el cual se explica en los comentarios de cada celda. Por buenas costumbres de proramación, todo se hace en idioma inglés:\n"
   ]
  },
  {
   "cell_type": "code",
   "execution_count": 18,
   "metadata": {},
   "outputs": [
    {
     "data": {
      "image/png": "[encoded data removed]",
      "text/plain": [
       "<Figure size 432x288 with 1 Axes>"
      ]
     },
     "metadata": {
      "needs_background": "light"
     },
     "output_type": "display_data"
    }
   ],
   "source": [
    "#Creating dependent and independent variables\n",
    "y = data['GPA']\n",
    "x1 = data['SAT']\n",
    "\n",
    "#Plotting data\n",
    "plt.scatter(x1,y)\n",
    "plt.xlabel('SAT', fontsize = 20)\n",
    "plt.ylabel('GPA', fontsize = 20)\n",
    "plt.show()"
   ]
  },
  {
   "cell_type": "markdown",
   "metadata": {},
   "source": [
    "Como se puede ver en la gráfica anterior, parece haber una tendencia entre el GPA y el SAT. El modelo a implementar será el siguiente:\n",
    "$$\\hat{y} = \\beta_0 + \\beta_1x_1$$\n",
    "\n",
    "donde $\\hat{y}$ es el estimador de la variable $y$. Otra forma de escribir esto y que facilitará la comprensión del código es la siguiente:\n",
    "\n",
    "\\begin{equation}\n",
    "\\hat{y} = \\beta_0 + \\beta_1x_1 \\\\\n",
    "        = \\beta_0*1 + \\beta_1x_1\n",
    "\\end{equation}\n",
    "\n",
    "este $1$ que multiplica al parámetro $\\beta_0$ se añade con la función $\\textit{sm.add_constant()}$, y teniendo las variables independientes de $x_1$ y $1$ entonces se procede a usar la función $OLS()$ (ordinary least squares, es decir la función de mínimos cuadrados) y a graficar el mejor ajuste lineal a los datos (es decir el arrojado usando mínimos cuadrados):"
   ]
  },
  {
   "cell_type": "code",
   "execution_count": 28,
   "metadata": {},
   "outputs": [
    {
     "data": {
      "image/png": "[encoded data removed]",
      "text/plain": [
       "<Figure size 432x288 with 1 Axes>"
      ]
     },
     "metadata": {
      "needs_background": "light"
     },
     "output_type": "display_data"
    }
   ],
   "source": [
    "#adding '1' constant:\n",
    "x = sm.add_constant(x1)\n",
    "#print(x)\n",
    "\n",
    "#ordinary least squares regresion:\n",
    "results = sm.OLS(y,x).fit()\n",
    "results.summary()\n",
    "\n",
    "#Plotting\n",
    "plt.scatter(x1,y)\n",
    "yhat = 0.0017*x1+0.278 #These quoeficients were checked with results.summary()\n",
    "fig = plt.plot(x1, yhat, lw=4, c='orange', label='linear regression')\n",
    "plt.xlabel('SAT', fontsize=20)\n",
    "plt.ylabel('GPA', fontsize=20)\n",
    "plt.show()"
   ]
  },
  {
   "cell_type": "markdown",
   "metadata": {},
   "source": [
    "## Conclusiones:\n",
    "1. Aunque a simple vista el GPA parece ser una función creciente de SAT, los datos tienen mucha dispersión y por lo tanto no se puede concluir aún que una regresión lineal es el mejor ajuste a los datos.\n",
    "2. Como consecuencia de la conclusión 1. se puede decir que este problema queda abierto para buscar otro tipo de regresión que ajuste mejor los datos, o procurar recolectar mas datos para ver si estos se ajustan a una regresión lineal."
   ]
  }
 ],
 "metadata": {
  "kernelspec": {
   "display_name": "Python 3",
   "language": "python",
   "name": "python3"
  },
  "language_info": {
   "codemirror_mode": {
    "name": "ipython",
    "version": 3
   },
   "file_extension": ".py",
   "mimetype": "text/x-python",
   "name": "python",
   "nbconvert_exporter": "python",
   "pygments_lexer": "ipython3",
   "version": "3.8.5"
  }
 },
 "nbformat": 4,
 "nbformat_minor": 4
}
